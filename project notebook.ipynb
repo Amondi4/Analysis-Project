{
 "cells": [
  {
   "cell_type": "markdown",
   "metadata": {},
   "source": [
    "## Data Understanding\n",
    "\n",
    "Describe the data being used for this project.\n",
    "***\n",
    "Questions to consider:\n",
    "* Where did the data come from, and how do they relate to the data analysis questions?\n",
    "* What do the data represent? Who is in the sample and what variables are included?\n",
    "* What is the target variable?\n",
    "* What are the properties of the variables you intend to use?\n",
    "***"
   ]
  },
  {
   "cell_type": "code",
   "execution_count": 1,
   "metadata": {},
   "outputs": [],
   "source": [
    "# Import standard packages\n",
    "import pandas as pd\n",
    "import numpy as np\n",
    "import matplotlib.pyplot as plt\n",
    "import seaborn as sns\n",
    "\n",
    "%matplotlib inline\n"
   ]
  },
  {
   "cell_type": "markdown",
   "metadata": {},
   "source": [
    "#Exploring given files to understand data contained within\n",
    "#Import relevant libraries\n",
    "#One file is a database and the others we will use are CSV"
   ]
  },
  {
   "cell_type": "code",
   "execution_count": 2,
   "metadata": {},
   "outputs": [
    {
     "name": "stdout",
     "output_type": "stream",
     "text": [
      "('movie_basics',)\n",
      "('directors',)\n",
      "('known_for',)\n",
      "('movie_akas',)\n",
      "('movie_ratings',)\n",
      "('persons',)\n",
      "('principals',)\n",
      "('writers',)\n"
     ]
    }
   ],
   "source": [
    "#EXPLORING THE DATABASE FILE\n",
    "#Import libraries\n",
    "import sqlite3\n",
    "import pandas as pd\n",
    "\n",
    "#Connect to the sqlite database\n",
    "conn = sqlite3.connect('im.db')\n",
    "\n",
    "with sqlite3.connect('im.db') as conn:\n",
    "#Query and Fetch data\n",
    "\n",
    "    cursor = conn.cursor()\n",
    "    cursor.execute(\"\"\"SELECT name FROM sqlite_master\n",
    "    WHERE type = 'table';\"\"\")\n",
    "\n",
    "#Fetch tables then print\n",
    "    tables = cursor.fetchall()\n",
    "\n",
    "    for table in tables:\n",
    "     print(table)  "
   ]
  },
  {
   "cell_type": "markdown",
   "metadata": {},
   "source": [
    "#The database file has 8 tables as depicted above\n",
    "#Exploring tables\n",
    "#Reading the tables into DataFrames"
   ]
  },
  {
   "cell_type": "code",
   "execution_count": 3,
   "metadata": {},
   "outputs": [
    {
     "name": "stdout",
     "output_type": "stream",
     "text": [
      "    movie_id                    primary_title              original_title  \\\n",
      "0  tt0063540                        Sunghursh                   Sunghursh   \n",
      "1  tt0066787  One Day Before the Rainy Season             Ashad Ka Ek Din   \n",
      "2  tt0069049       The Other Side of the Wind  The Other Side of the Wind   \n",
      "3  tt0069204                  Sabse Bada Sukh             Sabse Bada Sukh   \n",
      "4  tt0100275         The Wandering Soap Opera       La Telenovela Errante   \n",
      "\n",
      "   start_year  runtime_minutes                genres  averagerating  numvotes  \n",
      "0        2013            175.0    Action,Crime,Drama            7.0        77  \n",
      "1        2019            114.0       Biography,Drama            7.2        43  \n",
      "2        2018            122.0                 Drama            6.9      4517  \n",
      "3        2018              NaN          Comedy,Drama            6.1        13  \n",
      "4        2017             80.0  Comedy,Drama,Fantasy            6.5       119  \n"
     ]
    }
   ],
   "source": [
    "#Read relevant tables into DataFrames\n",
    "basics_df = pd.read_sql_query(\"\"\" SELECT * FROM movie_basics\"\"\", conn)\n",
    "ratings_df = pd.read_sql_query(\"\"\"SELECT * FROM movie_ratings\"\"\", conn)\n",
    "\n",
    "#Merge the relevant tables using the primary key i.e movie_id\n",
    "merged_db_df = pd.merge(basics_df, ratings_df, on = 'movie_id', how = 'inner')\n",
    "\n",
    "#Explore DataFrame\n",
    "print(merged_db_df.head())\n",
    "\n",
    "#Close database connection\n",
    "conn.close()\n"
   ]
  },
  {
   "cell_type": "markdown",
   "metadata": {},
   "source": [
    "#The merged DataFrame has 8 Columns\n",
    "#Since the column movie_id has been taken common\n",
    "#Printing them out to ascertain\n"
   ]
  },
  {
   "cell_type": "code",
   "execution_count": 4,
   "metadata": {},
   "outputs": [
    {
     "name": "stdout",
     "output_type": "stream",
     "text": [
      "movie_id\n",
      "primary_title\n",
      "original_title\n",
      "start_year\n",
      "runtime_minutes\n",
      "genres\n",
      "averagerating\n",
      "numvotes\n"
     ]
    }
   ],
   "source": [
    "#Check columns in the merged_db_df\n",
    "column_names = merged_db_df.columns.tolist()\n",
    "\n",
    "#print the names of the columns\n",
    "for column in column_names:\n",
    "    print(column)"
   ]
  },
  {
   "cell_type": "markdown",
   "metadata": {},
   "source": [
    "#Next, explore the CSV files\n",
    "#Pandas is already imported"
   ]
  },
  {
   "cell_type": "code",
   "execution_count": 5,
   "metadata": {},
   "outputs": [
    {
     "name": "stdout",
     "output_type": "stream",
     "text": [
      "                                         title studio  domestic_gross  \\\n",
      "0                                  Toy Story 3     BV     415000000.0   \n",
      "1                   Alice in Wonderland (2010)     BV     334200000.0   \n",
      "2  Harry Potter and the Deathly Hallows Part 1     WB     296000000.0   \n",
      "3                                    Inception     WB     292600000.0   \n",
      "4                          Shrek Forever After   P/DW     238700000.0   \n",
      "\n",
      "  foreign_gross  year  \n",
      "0     652000000  2010  \n",
      "1     691300000  2010  \n",
      "2     664300000  2010  \n",
      "3     535700000  2010  \n",
      "4     513900000  2010  \n"
     ]
    }
   ],
   "source": [
    "#Exploring the CSV files i.e bom, budgets\n",
    "#Load the CSV files into a DataFrame\n",
    "bom_df = pd.read_csv('bom.movie_gross.csv')\n",
    "print(bom_df.head())\n",
    "\n"
   ]
  },
  {
   "cell_type": "code",
   "execution_count": 6,
   "metadata": {},
   "outputs": [
    {
     "name": "stdout",
     "output_type": "stream",
     "text": [
      "   id  release_date                                        movie  \\\n",
      "0   1  Dec 18, 2009                                       Avatar   \n",
      "1   2  May 20, 2011  Pirates of the Caribbean: On Stranger Tides   \n",
      "2   3   Jun 7, 2019                                 Dark Phoenix   \n",
      "3   4   May 1, 2015                      Avengers: Age of Ultron   \n",
      "4   5  Dec 15, 2017            Star Wars Ep. VIII: The Last Jedi   \n",
      "\n",
      "  production_budget domestic_gross worldwide_gross  \n",
      "0      $425,000,000   $760,507,625  $2,776,345,279  \n",
      "1      $410,600,000   $241,063,875  $1,045,663,875  \n",
      "2      $350,000,000    $42,762,350    $149,762,350  \n",
      "3      $330,600,000   $459,005,868  $1,403,013,963  \n",
      "4      $317,000,000   $620,181,382  $1,316,721,747  \n"
     ]
    }
   ],
   "source": [
    "budgets_df = pd.read_csv('tn.movie_budgets.csv')\n",
    "print(budgets_df.head())"
   ]
  },
  {
   "cell_type": "code",
   "execution_count": 7,
   "metadata": {},
   "outputs": [
    {
     "name": "stdout",
     "output_type": "stream",
     "text": [
      "<class 'pandas.core.frame.DataFrame'>\n",
      "RangeIndex: 73856 entries, 0 to 73855\n",
      "Data columns (total 8 columns):\n",
      " #   Column           Non-Null Count  Dtype  \n",
      "---  ------           --------------  -----  \n",
      " 0   movie_id         73856 non-null  object \n",
      " 1   primary_title    73856 non-null  object \n",
      " 2   original_title   73856 non-null  object \n",
      " 3   start_year       73856 non-null  int64  \n",
      " 4   runtime_minutes  66236 non-null  float64\n",
      " 5   genres           73052 non-null  object \n",
      " 6   averagerating    73856 non-null  float64\n",
      " 7   numvotes         73856 non-null  int64  \n",
      "dtypes: float64(2), int64(2), object(4)\n",
      "memory usage: 4.5+ MB\n",
      "None\n"
     ]
    }
   ],
   "source": [
    "print(merged_db_df.info())"
   ]
  },
  {
   "cell_type": "code",
   "execution_count": 8,
   "metadata": {},
   "outputs": [
    {
     "name": "stdout",
     "output_type": "stream",
     "text": [
      "<class 'pandas.core.frame.DataFrame'>\n",
      "RangeIndex: 3387 entries, 0 to 3386\n",
      "Data columns (total 5 columns):\n",
      " #   Column          Non-Null Count  Dtype  \n",
      "---  ------          --------------  -----  \n",
      " 0   title           3387 non-null   object \n",
      " 1   studio          3382 non-null   object \n",
      " 2   domestic_gross  3359 non-null   float64\n",
      " 3   foreign_gross   2037 non-null   object \n",
      " 4   year            3387 non-null   int64  \n",
      "dtypes: float64(1), int64(1), object(3)\n",
      "memory usage: 132.4+ KB\n",
      "None\n"
     ]
    }
   ],
   "source": [
    "print(bom_df.info())"
   ]
  },
  {
   "cell_type": "code",
   "execution_count": 9,
   "metadata": {},
   "outputs": [
    {
     "name": "stdout",
     "output_type": "stream",
     "text": [
      "<class 'pandas.core.frame.DataFrame'>\n",
      "RangeIndex: 5782 entries, 0 to 5781\n",
      "Data columns (total 6 columns):\n",
      " #   Column             Non-Null Count  Dtype \n",
      "---  ------             --------------  ----- \n",
      " 0   id                 5782 non-null   int64 \n",
      " 1   release_date       5782 non-null   object\n",
      " 2   movie              5782 non-null   object\n",
      " 3   production_budget  5782 non-null   object\n",
      " 4   domestic_gross     5782 non-null   object\n",
      " 5   worldwide_gross    5782 non-null   object\n",
      "dtypes: int64(1), object(5)\n",
      "memory usage: 271.2+ KB\n",
      "None\n"
     ]
    }
   ],
   "source": [
    "print(budgets_df.info())"
   ]
  },
  {
   "cell_type": "markdown",
   "metadata": {},
   "source": [
    "## Data Preparation\n",
    "\n",
    "Describe and justify the process for preparing the data for analysis.\n",
    "\n",
    "***\n",
    "Questions to consider:\n",
    "* Were there variables you dropped or created?\n",
    "* How did you address missing values or outliers?\n",
    "* Why are these choices appropriate given the data and the business problem?\n",
    "***"
   ]
  },
  {
   "cell_type": "code",
   "execution_count": 10,
   "metadata": {},
   "outputs": [
    {
     "name": "stdout",
     "output_type": "stream",
     "text": [
      "Duplicates in db_df:\n",
      "0\n",
      "\n",
      "Duplicates in bom_df:\n",
      "0\n",
      "\n",
      "Duplicates in budgets_df:\n",
      "0\n"
     ]
    }
   ],
   "source": [
    "#Check for duplicates\n",
    "print(\"Duplicates in db_df:\")\n",
    "print(len(merged_db_df[merged_db_df.duplicated()]))\n",
    "\n",
    "print(\"\\nDuplicates in bom_df:\")\n",
    "print(len(bom_df[bom_df.duplicated()]))\n",
    "\n",
    "print(\"\\nDuplicates in budgets_df:\")\n",
    "print(len(budgets_df[budgets_df.duplicated()]))\n"
   ]
  },
  {
   "cell_type": "markdown",
   "metadata": {},
   "source": [
    "#Checking for missing values in the data"
   ]
  },
  {
   "cell_type": "code",
   "execution_count": 11,
   "metadata": {},
   "outputs": [
    {
     "name": "stdout",
     "output_type": "stream",
     "text": [
      "Missing values in db_df:\n",
      "movie_id              0\n",
      "primary_title         0\n",
      "original_title        0\n",
      "start_year            0\n",
      "runtime_minutes    7620\n",
      "genres              804\n",
      "averagerating         0\n",
      "numvotes              0\n",
      "dtype: int64\n",
      "\n",
      "Missing values in bom_df:\n",
      "title                0\n",
      "studio               5\n",
      "domestic_gross      28\n",
      "foreign_gross     1350\n",
      "year                 0\n",
      "dtype: int64\n",
      "\n",
      "Missing values in budgets_df:\n",
      "id                   0\n",
      "release_date         0\n",
      "movie                0\n",
      "production_budget    0\n",
      "domestic_gross       0\n",
      "worldwide_gross      0\n",
      "dtype: int64\n"
     ]
    }
   ],
   "source": [
    "#Check for missing values in db\n",
    "missing_values_db = merged_db_df.isnull().sum()\n",
    "missing_values_bom = bom_df.isnull().sum()\n",
    "missing_values_budgets = budgets_df.isnull().sum()\n",
    "\n",
    "print(\"Missing values in db_df:\")\n",
    "print(missing_values_db)\n",
    "\n",
    "print(\"\\nMissing values in bom_df:\")\n",
    "print(missing_values_bom)\n",
    "\n",
    "print(\"\\nMissing values in budgets_df:\")\n",
    "print(missing_values_budgets)\n"
   ]
  },
  {
   "cell_type": "markdown",
   "metadata": {},
   "source": [
    "#Handling the missing values in the data\n",
    "#Drop the studio, domestic_gross and genres rows\n",
    "#Fill the runtime and foreign_gross columns"
   ]
  },
  {
   "cell_type": "code",
   "execution_count": 12,
   "metadata": {},
   "outputs": [],
   "source": [
    "#Drop the missing value rows\n",
    "merged_db_df['genres'].dropna(inplace=True)\n",
    "bom_df['studio'].dropna(inplace=True)\n",
    "bom_df['domestic_gross'].dropna(inplace=True)\n",
    "\n",
    "#Fill the runtime and foreign_gross\n",
    "merged_db_df['runtime_minutes'] = merged_db_df['runtime_minutes'].fillna(merged_db_df['runtime_minutes'].mode())\n",
    "bom_df['foreign_gross'] = bom_df['foreign_gross'].fillna(bom_df['foreign_gross'].mode())\n"
   ]
  },
  {
   "cell_type": "markdown",
   "metadata": {},
   "source": [
    "#Checking for Outliers"
   ]
  },
  {
   "cell_type": "code",
   "execution_count": 18,
   "metadata": {},
   "outputs": [
    {
     "data": {
      "text/html": [
       "<div>\n",
       "<style scoped>\n",
       "    .dataframe tbody tr th:only-of-type {\n",
       "        vertical-align: middle;\n",
       "    }\n",
       "\n",
       "    .dataframe tbody tr th {\n",
       "        vertical-align: top;\n",
       "    }\n",
       "\n",
       "    .dataframe thead th {\n",
       "        text-align: right;\n",
       "    }\n",
       "</style>\n",
       "<table border=\"1\" class=\"dataframe\">\n",
       "  <thead>\n",
       "    <tr style=\"text-align: right;\">\n",
       "      <th></th>\n",
       "      <th>movie_id</th>\n",
       "      <th>primary_title</th>\n",
       "      <th>original_title</th>\n",
       "      <th>start_year</th>\n",
       "      <th>runtime_minutes</th>\n",
       "      <th>genres</th>\n",
       "      <th>averagerating</th>\n",
       "      <th>numvotes</th>\n",
       "    </tr>\n",
       "  </thead>\n",
       "  <tbody>\n",
       "    <tr>\n",
       "      <th>0</th>\n",
       "      <td>tt0063540</td>\n",
       "      <td>Sunghursh</td>\n",
       "      <td>Sunghursh</td>\n",
       "      <td>2013</td>\n",
       "      <td>175.0</td>\n",
       "      <td>Action,Crime,Drama</td>\n",
       "      <td>7.0</td>\n",
       "      <td>77</td>\n",
       "    </tr>\n",
       "    <tr>\n",
       "      <th>9</th>\n",
       "      <td>tt0159369</td>\n",
       "      <td>Cooper and Hemingway: The True Gen</td>\n",
       "      <td>Cooper and Hemingway: The True Gen</td>\n",
       "      <td>2013</td>\n",
       "      <td>180.0</td>\n",
       "      <td>Documentary</td>\n",
       "      <td>7.6</td>\n",
       "      <td>53</td>\n",
       "    </tr>\n",
       "    <tr>\n",
       "      <th>12</th>\n",
       "      <td>tt0176694</td>\n",
       "      <td>The Tragedy of Man</td>\n",
       "      <td>Az ember tragédiája</td>\n",
       "      <td>2011</td>\n",
       "      <td>160.0</td>\n",
       "      <td>Animation,Drama,History</td>\n",
       "      <td>7.8</td>\n",
       "      <td>584</td>\n",
       "    </tr>\n",
       "    <tr>\n",
       "      <th>20</th>\n",
       "      <td>tt0262218</td>\n",
       "      <td>Akakis mogzauroba</td>\n",
       "      <td>Akakis mogzauroba</td>\n",
       "      <td>2012</td>\n",
       "      <td>44.0</td>\n",
       "      <td>Documentary</td>\n",
       "      <td>7.8</td>\n",
       "      <td>22</td>\n",
       "    </tr>\n",
       "    <tr>\n",
       "      <th>24</th>\n",
       "      <td>tt0283440</td>\n",
       "      <td>Short Time Heroes</td>\n",
       "      <td>Kurzzeithelden</td>\n",
       "      <td>2015</td>\n",
       "      <td>45.0</td>\n",
       "      <td>Sci-Fi</td>\n",
       "      <td>6.6</td>\n",
       "      <td>16</td>\n",
       "    </tr>\n",
       "  </tbody>\n",
       "</table>\n",
       "</div>"
      ],
      "text/plain": [
       "     movie_id                       primary_title  \\\n",
       "0   tt0063540                           Sunghursh   \n",
       "9   tt0159369  Cooper and Hemingway: The True Gen   \n",
       "12  tt0176694                  The Tragedy of Man   \n",
       "20  tt0262218                   Akakis mogzauroba   \n",
       "24  tt0283440                   Short Time Heroes   \n",
       "\n",
       "                        original_title  start_year  runtime_minutes  \\\n",
       "0                            Sunghursh        2013            175.0   \n",
       "9   Cooper and Hemingway: The True Gen        2013            180.0   \n",
       "12                 Az ember tragédiája        2011            160.0   \n",
       "20                   Akakis mogzauroba        2012             44.0   \n",
       "24                      Kurzzeithelden        2015             45.0   \n",
       "\n",
       "                     genres  averagerating  numvotes  \n",
       "0        Action,Crime,Drama            7.0        77  \n",
       "9               Documentary            7.6        53  \n",
       "12  Animation,Drama,History            7.8       584  \n",
       "20              Documentary            7.8        22  \n",
       "24                   Sci-Fi            6.6        16  "
      ]
     },
     "execution_count": 18,
     "metadata": {},
     "output_type": "execute_result"
    }
   ],
   "source": [
    "#Checking for outliers\n",
    "#runtime_minutes outliers\n",
    "Q1 = merged_db_df['runtime_minutes'].quantile(0.25)\n",
    "Q3 = merged_db_df['runtime_minutes'].quantile(0.75)\n",
    "IQR = Q3 - Q1\n",
    "\n",
    "lower_bound = Q1 - 1.5 * IQR\n",
    "upper_bound = Q3 + 1.5 * IQR\n",
    "\n",
    "outliers = merged_db_df[(merged_db_df['runtime_minutes'] < lower_bound) | \n",
    "                        (merged_db_df['runtime_minutes'] > upper_bound)]\n",
    "outliers.head()"
   ]
  },
  {
   "cell_type": "code",
   "execution_count": 24,
   "metadata": {},
   "outputs": [
    {
     "data": {
      "image/png": "[encoded data removed]",
      "text/plain": [
       "<Figure size 800x600 with 1 Axes>"
      ]
     },
     "metadata": {},
     "output_type": "display_data"
    }
   ],
   "source": [
    "##Checking for outliers\n",
    "#Calculate quartiles and IQR\n",
    "Q1 = bom_df['domestic_gross'].quantile(0.25)\n",
    "Q3 = bom_df['domestic_gross'].quantile(0.75)\n",
    "IQR = Q3 - Q1\n",
    "\n",
    "#Define lower and upper bounds\n",
    "lower_bound = Q1 - 1.5 * IQR\n",
    "upper_bound = Q3 + 1.5 * IQR\n",
    "\n",
    "#Create a box plot\n",
    "plt.figure(figsize=(8, 6))\n",
    "sns.boxplot(x=bom_df['domestic_gross'])\n",
    "\n",
    "#Highlight potential outliers\n",
    "plt.scatter([], [], c='red', label='Outliers')\n",
    "plt.axhline(y=lower_bound, color='gray', linestyle='--', label='Lower Bound')\n",
    "plt.axhline(y=upper_bound, color='gray', linestyle='--', label='Upper Bound')\n",
    "\n",
    "#Add labels and title\n",
    "plt.legend()\n",
    "plt.xlabel('Domestic Gross')\n",
    "plt.title('Box Plot of \"domestic_gross\" with Outliers')\n",
    "plt.show()\n",
    "\n",
    "#outliers = bom_df[(bom_df['domestic_gross'] < lower_bound) | (bom_df['domestic_gross'] > upper_bound)]\n",
    "#outliers.head()"
   ]
  },
  {
   "cell_type": "code",
   "execution_count": null,
   "metadata": {},
   "outputs": [],
   "source": []
  }
 ],
 "metadata": {
  "kernelspec": {
   "display_name": "Python (learn-env)",
   "language": "python",
   "name": "learn-env"
  },
  "language_info": {
   "codemirror_mode": {
    "name": "ipython",
    "version": 3
   },
   "file_extension": ".py",
   "mimetype": "text/x-python",
   "name": "python",
   "nbconvert_exporter": "python",
   "pygments_lexer": "ipython3",
   "version": "3.11.5"
  }
 },
 "nbformat": 4,
 "nbformat_minor": 2
}
